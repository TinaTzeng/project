{
 "cells": [
  {
   "cell_type": "code",
   "execution_count": 1,
   "metadata": {},
   "outputs": [],
   "source": [
    "import requests\n",
    "from bs4 import BeautifulSoup \n",
    "import pandas as pd"
   ]
  },
  {
   "cell_type": "code",
   "execution_count": 9,
   "metadata": {
    "scrolled": false
   },
   "outputs": [],
   "source": [
    "# r = requests.get(\"https://www.cbssports.com/nba/injuries/daily/\")\n",
    "# soup = BeautifulSoup(r.text, \"html.parser\")\n",
    "# table = soup.find_all(class_ = 'CellPlayerName--long')\n",
    "# for t in table:\n",
    "# #     print(t.find(id = \"TableBase\").text)\n",
    "#     print(t.text)"
   ]
  },
  {
   "cell_type": "code",
   "execution_count": 30,
   "metadata": {},
   "outputs": [],
   "source": [
    "r = requests.get(\"https://www.cbssports.com/nba/injuries/daily/\")\n",
    "soup = BeautifulSoup(r.text, \"html.parser\")\n",
    "table = soup.find_all(class_ = 'TableBase-bodyTd')\n",
    "injury = []\n",
    "for t in table:\n",
    "#     print(t.text)\n",
    "    injury.append(t.text.replace(\"\\n\\n\\n\\n\\n\",\" / \").replace(\"\\n\", \"\"))"
   ]
  },
  {
   "cell_type": "code",
   "execution_count": 28,
   "metadata": {},
   "outputs": [
    {
     "data": {
      "text/plain": [
       "440"
      ]
     },
     "execution_count": 28,
     "metadata": {},
     "output_type": "execute_result"
    }
   ],
   "source": [
    "injury[:10]"
   ]
  },
  {
   "cell_type": "code",
   "execution_count": 31,
   "metadata": {},
   "outputs": [],
   "source": [
    "j = 1\n",
    "while j+4 <= len(injury):\n",
    "#     print(j)\n",
    "    injury[j] = injury[j].partition(\"/\")[2]\n",
    "    j += 5"
   ]
  },
  {
   "cell_type": "code",
   "execution_count": 32,
   "metadata": {},
   "outputs": [],
   "source": [
    "# injury[0:10]\n",
    "rows = []\n",
    "#五個一組\n",
    "i = 0\n",
    "while i+5 <= len(injury):\n",
    "    rows.append(injury[i:i+5])\n",
    "    i += 5"
   ]
  },
  {
   "cell_type": "code",
   "execution_count": 33,
   "metadata": {},
   "outputs": [],
   "source": [
    "columns = [\"Team\", \"Player\", \"Position\", \"Injury\", \"Status\"]\n",
    "injury_df = pd.DataFrame(columns = columns, data = rows)"
   ]
  },
  {
   "cell_type": "code",
   "execution_count": 34,
   "metadata": {},
   "outputs": [
    {
     "data": {
      "text/html": [
       "<div>\n",
       "<style scoped>\n",
       "    .dataframe tbody tr th:only-of-type {\n",
       "        vertical-align: middle;\n",
       "    }\n",
       "\n",
       "    .dataframe tbody tr th {\n",
       "        vertical-align: top;\n",
       "    }\n",
       "\n",
       "    .dataframe thead th {\n",
       "        text-align: right;\n",
       "    }\n",
       "</style>\n",
       "<table border=\"1\" class=\"dataframe\">\n",
       "  <thead>\n",
       "    <tr style=\"text-align: right;\">\n",
       "      <th></th>\n",
       "      <th>Team</th>\n",
       "      <th>Player</th>\n",
       "      <th>Position</th>\n",
       "      <th>Injury</th>\n",
       "      <th>Status</th>\n",
       "    </tr>\n",
       "  </thead>\n",
       "  <tbody>\n",
       "    <tr>\n",
       "      <td>0</td>\n",
       "      <td>BKN</td>\n",
       "      <td>Joe Harris</td>\n",
       "      <td>SF</td>\n",
       "      <td>Ankle</td>\n",
       "      <td>Game Time Decision</td>\n",
       "    </tr>\n",
       "    <tr>\n",
       "      <td>1</td>\n",
       "      <td>BKN</td>\n",
       "      <td>Kevin Durant</td>\n",
       "      <td>SF</td>\n",
       "      <td>Achilles</td>\n",
       "      <td>Expected to be out until at le...</td>\n",
       "    </tr>\n",
       "    <tr>\n",
       "      <td>2</td>\n",
       "      <td>BKN</td>\n",
       "      <td>Kyrie Irving</td>\n",
       "      <td>PG</td>\n",
       "      <td>Shoulder</td>\n",
       "      <td>Expected to be out until at le...</td>\n",
       "    </tr>\n",
       "    <tr>\n",
       "      <td>3</td>\n",
       "      <td>ATL</td>\n",
       "      <td>Skal Labissiere</td>\n",
       "      <td>PF</td>\n",
       "      <td>Knee</td>\n",
       "      <td>Game Time Decision</td>\n",
       "    </tr>\n",
       "    <tr>\n",
       "      <td>4</td>\n",
       "      <td>ATL</td>\n",
       "      <td>Clint Capela</td>\n",
       "      <td>C</td>\n",
       "      <td>Heel</td>\n",
       "      <td>Game Time Decision</td>\n",
       "    </tr>\n",
       "    <tr>\n",
       "      <td>...</td>\n",
       "      <td>...</td>\n",
       "      <td>...</td>\n",
       "      <td>...</td>\n",
       "      <td>...</td>\n",
       "      <td>...</td>\n",
       "    </tr>\n",
       "    <tr>\n",
       "      <td>83</td>\n",
       "      <td>DET</td>\n",
       "      <td>Blake Griffin</td>\n",
       "      <td>PF</td>\n",
       "      <td>Knee</td>\n",
       "      <td>Out for the season</td>\n",
       "    </tr>\n",
       "    <tr>\n",
       "      <td>84</td>\n",
       "      <td>NO</td>\n",
       "      <td>Darius Miller</td>\n",
       "      <td>SF</td>\n",
       "      <td>Achilles</td>\n",
       "      <td>Out for the season</td>\n",
       "    </tr>\n",
       "    <tr>\n",
       "      <td>85</td>\n",
       "      <td>CLE</td>\n",
       "      <td>Dylan Windler</td>\n",
       "      <td>SG</td>\n",
       "      <td>Lower Leg</td>\n",
       "      <td>Out for the season</td>\n",
       "    </tr>\n",
       "    <tr>\n",
       "      <td>86</td>\n",
       "      <td>CHI</td>\n",
       "      <td>Max Strus</td>\n",
       "      <td>SG</td>\n",
       "      <td>Knee</td>\n",
       "      <td>Out for the season</td>\n",
       "    </tr>\n",
       "    <tr>\n",
       "      <td>87</td>\n",
       "      <td>POR</td>\n",
       "      <td>Rodney Hood</td>\n",
       "      <td>SF</td>\n",
       "      <td>Achilles</td>\n",
       "      <td>Out for the season</td>\n",
       "    </tr>\n",
       "  </tbody>\n",
       "</table>\n",
       "<p>88 rows × 5 columns</p>\n",
       "</div>"
      ],
      "text/plain": [
       "   Team            Player                        Position  \\\n",
       "0   BKN        Joe Harris                  SF               \n",
       "1   BKN      Kevin Durant                  SF               \n",
       "2   BKN      Kyrie Irving                  PG               \n",
       "3   ATL   Skal Labissiere                  PF               \n",
       "4   ATL      Clint Capela                   C               \n",
       "..  ...               ...                             ...   \n",
       "83  DET     Blake Griffin                  PF               \n",
       "84   NO     Darius Miller                  SF               \n",
       "85  CLE     Dylan Windler                  SG               \n",
       "86  CHI         Max Strus                  SG               \n",
       "87  POR       Rodney Hood                  SF               \n",
       "\n",
       "                                   Injury  \\\n",
       "0                       Ankle               \n",
       "1                    Achilles               \n",
       "2                    Shoulder               \n",
       "3                        Knee               \n",
       "4                        Heel               \n",
       "..                                    ...   \n",
       "83                       Knee               \n",
       "84                   Achilles               \n",
       "85                  Lower Leg               \n",
       "86                       Knee               \n",
       "87                   Achilles               \n",
       "\n",
       "                                               Status  \n",
       "0                      Game Time Decision              \n",
       "1                   Expected to be out until at le...  \n",
       "2                   Expected to be out until at le...  \n",
       "3                      Game Time Decision              \n",
       "4                      Game Time Decision              \n",
       "..                                                ...  \n",
       "83                     Out for the season              \n",
       "84                     Out for the season              \n",
       "85                     Out for the season              \n",
       "86                     Out for the season              \n",
       "87                     Out for the season              \n",
       "\n",
       "[88 rows x 5 columns]"
      ]
     },
     "execution_count": 34,
     "metadata": {},
     "output_type": "execute_result"
    }
   ],
   "source": [
    "injury_df"
   ]
  }
 ],
 "metadata": {
  "kernelspec": {
   "display_name": "Python 3",
   "language": "python",
   "name": "python3"
  },
  "language_info": {
   "codemirror_mode": {
    "name": "ipython",
    "version": 3
   },
   "file_extension": ".py",
   "mimetype": "text/x-python",
   "name": "python",
   "nbconvert_exporter": "python",
   "pygments_lexer": "ipython3",
   "version": "3.7.0"
  }
 },
 "nbformat": 4,
 "nbformat_minor": 2
}
